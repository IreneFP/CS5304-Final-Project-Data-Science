{
 "cells": [
  {
   "cell_type": "code",
   "execution_count": 1,
   "metadata": {},
   "outputs": [
    {
     "output_type": "execute_result",
     "data": {
      "text/plain": "   keyword location                                               text  target\nid                                                                            \n1      NaN      NaN  Our Deeds are the Reason of this #earthquake M...       1\n4      NaN      NaN             Forest fire near La Ronge Sask. Canada       1\n5      NaN      NaN  All residents asked to 'shelter in place' are ...       1\n6      NaN      NaN  13,000 people receive #wildfires evacuation or...       1\n7      NaN      NaN  Just got sent this photo from Ruby #Alaska as ...       1",
      "text/html": "<div>\n<style scoped>\n    .dataframe tbody tr th:only-of-type {\n        vertical-align: middle;\n    }\n\n    .dataframe tbody tr th {\n        vertical-align: top;\n    }\n\n    .dataframe thead th {\n        text-align: right;\n    }\n</style>\n<table border=\"1\" class=\"dataframe\">\n  <thead>\n    <tr style=\"text-align: right;\">\n      <th></th>\n      <th>keyword</th>\n      <th>location</th>\n      <th>text</th>\n      <th>target</th>\n    </tr>\n    <tr>\n      <th>id</th>\n      <th></th>\n      <th></th>\n      <th></th>\n      <th></th>\n    </tr>\n  </thead>\n  <tbody>\n    <tr>\n      <th>1</th>\n      <td>NaN</td>\n      <td>NaN</td>\n      <td>Our Deeds are the Reason of this #earthquake M...</td>\n      <td>1</td>\n    </tr>\n    <tr>\n      <th>4</th>\n      <td>NaN</td>\n      <td>NaN</td>\n      <td>Forest fire near La Ronge Sask. Canada</td>\n      <td>1</td>\n    </tr>\n    <tr>\n      <th>5</th>\n      <td>NaN</td>\n      <td>NaN</td>\n      <td>All residents asked to 'shelter in place' are ...</td>\n      <td>1</td>\n    </tr>\n    <tr>\n      <th>6</th>\n      <td>NaN</td>\n      <td>NaN</td>\n      <td>13,000 people receive #wildfires evacuation or...</td>\n      <td>1</td>\n    </tr>\n    <tr>\n      <th>7</th>\n      <td>NaN</td>\n      <td>NaN</td>\n      <td>Just got sent this photo from Ruby #Alaska as ...</td>\n      <td>1</td>\n    </tr>\n  </tbody>\n</table>\n</div>"
     },
     "metadata": {},
     "execution_count": 1
    }
   ],
   "source": [
    "import pandas as pd\n",
    "import numpy as np\n",
    "from sklearn.metrics import confusion_matrix as confmat\n",
    "from sklearn.metrics import f1_score as f1\n",
    "# from sklearn.metrics import plot_confusion_matrix as plot_confmat\n",
    "\n",
    "# import re\n",
    "# import string\n",
    "import random\n",
    "import importlib\n",
    "\n",
    "# import nltk\n",
    "# from nltk.corpus import stopwords\n",
    "# from nltk.stem.porter import PorterStemmer\n",
    "\n",
    "import torch\n",
    "import preprocess\n",
    "import dan\n",
    "\n",
    "import gensim\n",
    "# load dataset and preprocess\n",
    "twt = pd.read_csv('train.csv')\n",
    "twt = twt.set_index('id')\n",
    "twt.head()"
   ]
  },
  {
   "cell_type": "markdown",
   "metadata": {},
   "source": [
    "## 0. Data Preprocessing"
   ]
  },
  {
   "cell_type": "markdown",
   "metadata": {},
   "source": [
    "### 0.1 Data Cleaning"
   ]
  },
  {
   "cell_type": "code",
   "execution_count": 2,
   "metadata": {},
   "outputs": [
    {
     "output_type": "stream",
     "name": "stdout",
     "text": "7613 tweets lowered, tokenized, alphanumerized, stop-stripped, and stemmed.\n"
    },
    {
     "output_type": "execute_result",
     "data": {
      "text/plain": "   keyword location                                               text  \\\nid                                                                       \n1      NaN      NaN  Our Deeds are the Reason of this #earthquake M...   \n4      NaN      NaN             Forest fire near La Ronge Sask. Canada   \n5      NaN      NaN  All residents asked to 'shelter in place' are ...   \n6      NaN      NaN  13,000 people receive #wildfires evacuation or...   \n7      NaN      NaN  Just got sent this photo from Ruby #Alaska as ...   \n\n    target                                            prepped  \nid                                                             \n1        1  [deeds, reason, earthquake, may, allah, forgiv...  \n4        1      [forest, fire, near, la, ronge, sask, canada]  \n5        1  [residents, asked, shelter, place, notified, o...  \n6        1  [people, receive, wildfires, evacuation, order...  \n7        1  [got, sent, photo, ruby, alaska, smoke, wildfi...  ",
      "text/html": "<div>\n<style scoped>\n    .dataframe tbody tr th:only-of-type {\n        vertical-align: middle;\n    }\n\n    .dataframe tbody tr th {\n        vertical-align: top;\n    }\n\n    .dataframe thead th {\n        text-align: right;\n    }\n</style>\n<table border=\"1\" class=\"dataframe\">\n  <thead>\n    <tr style=\"text-align: right;\">\n      <th></th>\n      <th>keyword</th>\n      <th>location</th>\n      <th>text</th>\n      <th>target</th>\n      <th>prepped</th>\n    </tr>\n    <tr>\n      <th>id</th>\n      <th></th>\n      <th></th>\n      <th></th>\n      <th></th>\n      <th></th>\n    </tr>\n  </thead>\n  <tbody>\n    <tr>\n      <th>1</th>\n      <td>NaN</td>\n      <td>NaN</td>\n      <td>Our Deeds are the Reason of this #earthquake M...</td>\n      <td>1</td>\n      <td>[deeds, reason, earthquake, may, allah, forgiv...</td>\n    </tr>\n    <tr>\n      <th>4</th>\n      <td>NaN</td>\n      <td>NaN</td>\n      <td>Forest fire near La Ronge Sask. Canada</td>\n      <td>1</td>\n      <td>[forest, fire, near, la, ronge, sask, canada]</td>\n    </tr>\n    <tr>\n      <th>5</th>\n      <td>NaN</td>\n      <td>NaN</td>\n      <td>All residents asked to 'shelter in place' are ...</td>\n      <td>1</td>\n      <td>[residents, asked, shelter, place, notified, o...</td>\n    </tr>\n    <tr>\n      <th>6</th>\n      <td>NaN</td>\n      <td>NaN</td>\n      <td>13,000 people receive #wildfires evacuation or...</td>\n      <td>1</td>\n      <td>[people, receive, wildfires, evacuation, order...</td>\n    </tr>\n    <tr>\n      <th>7</th>\n      <td>NaN</td>\n      <td>NaN</td>\n      <td>Just got sent this photo from Ruby #Alaska as ...</td>\n      <td>1</td>\n      <td>[got, sent, photo, ruby, alaska, smoke, wildfi...</td>\n    </tr>\n  </tbody>\n</table>\n</div>"
     },
     "metadata": {},
     "execution_count": 2
    }
   ],
   "source": [
    "text = twt['text'].to_list()\n",
    "prep_text = [preprocess.processing(i) for i in text]\n",
    "print('{} tweets lowered, tokenized, alphanumerized, stop-stripped, and stemmed.'.format(len(prep_text)))\n",
    "twt['prepped'] = prep_text\n",
    "twt.head()"
   ]
  },
  {
   "cell_type": "markdown",
   "metadata": {},
   "source": [
    "### 0.2 Embedding"
   ]
  },
  {
   "cell_type": "code",
   "execution_count": 3,
   "metadata": {},
   "outputs": [],
   "source": [
    "word2vec = gensim.models.KeyedVectors.load_word2vec_format(\"GoogleNews-vectors-negative300.bin.gz\", binary=True)\n",
    "\n",
    "twt['vec'] = pd.Series([preprocess.tweet_vec(tweet, word2vec) for tweet in twt['prepped']], index = twt.index)\n",
    "\n",
    "devtrain_idx = twt.loc[~twt['vec'].isna()].index.tolist()\n",
    "random.shuffle(devtrain_idx)\n",
    "\n",
    "train_p = 0.7\n",
    "train_idx = devtrain_idx[:round(train_p*len(devtrain_idx))]\n",
    "dev_idx = devtrain_idx[round(train_p*len(devtrain_idx)):]\n",
    "\n",
    "train = [(vec, targ) for targ, vec in  zip(twt['target'][train_idx], twt['vec'][train_idx])]\n",
    "dev = [(vec, targ) for targ, vec in  zip(twt['target'][dev_idx], twt['vec'][dev_idx])]"
   ]
  },
  {
   "cell_type": "markdown",
   "metadata": {},
   "source": [
    "## 1. NN construction"
   ]
  },
  {
   "cell_type": "code",
   "execution_count": 36,
   "metadata": {},
   "outputs": [
    {
     "output_type": "stream",
     "name": "stdout",
     "text": "[1,     1] loss: 0.695\tDev FI: 0.006\n[1,     2] loss: 0.670\tDev FI: 0.504\n[2,     1] loss: 0.616\tDev FI: 0.721\n[2,     2] loss: 0.578\tDev FI: 0.731\n[3,     1] loss: 0.561\tDev FI: 0.717\n[3,     2] loss: 0.527\tDev FI: 0.722\n[4,     1] loss: 0.528\tDev FI: 0.725\n[4,     2] loss: 0.510\tDev FI: 0.733\n[5,     1] loss: 0.523\tDev FI: 0.735\n[5,     2] loss: 0.490\tDev FI: 0.735\n[6,     1] loss: 0.526\tDev FI: 0.731\n[6,     2] loss: 0.478\tDev FI: 0.732\n[7,     1] loss: 0.521\tDev FI: 0.736\n[7,     2] loss: 0.469\tDev FI: 0.734\n[8,     1] loss: 0.516\tDev FI: 0.736\n[8,     2] loss: 0.461\tDev FI: 0.737\n[9,     1] loss: 0.515\tDev FI: 0.738\n[9,     2] loss: 0.447\tDev FI: 0.740\n[10,     1] loss: 0.518\tDev FI: 0.740\n[10,     2] loss: 0.438\tDev FI: 0.735\n[11,     1] loss: 0.517\tDev FI: 0.738\n[11,     2] loss: 0.431\tDev FI: 0.735\n[12,     1] loss: 0.515\tDev FI: 0.737\n[12,     2] loss: 0.428\tDev FI: 0.732\n[13,     1] loss: 0.515\tDev FI: 0.731\n[13,     2] loss: 0.420\tDev FI: 0.730\n[14,     1] loss: 0.516\tDev FI: 0.730\n[14,     2] loss: 0.417\tDev FI: 0.730\n[15,     1] loss: 0.513\tDev FI: 0.737\n[15,     2] loss: 0.416\tDev FI: 0.738\n[16,     1] loss: 0.510\tDev FI: 0.738\n[16,     2] loss: 0.416\tDev FI: 0.739\n[17,     1] loss: 0.509\tDev FI: 0.736\n[17,     2] loss: 0.413\tDev FI: 0.735\n[18,     1] loss: 0.509\tDev FI: 0.740\n[18,     2] loss: 0.412\tDev FI: 0.741\n[19,     1] loss: 0.507\tDev FI: 0.745\n[19,     2] loss: 0.412\tDev FI: 0.744\n[20,     1] loss: 0.506\tDev FI: 0.742\n[20,     2] loss: 0.411\tDev FI: 0.743\n[21,     1] loss: 0.505\tDev FI: 0.745\n[21,     2] loss: 0.410\tDev FI: 0.746\n[22,     1] loss: 0.504\tDev FI: 0.745\n[22,     2] loss: 0.408\tDev FI: 0.744\n[23,     1] loss: 0.503\tDev FI: 0.744\n[23,     2] loss: 0.407\tDev FI: 0.745\n[24,     1] loss: 0.502\tDev FI: 0.746\n[24,     2] loss: 0.405\tDev FI: 0.746\n[25,     1] loss: 0.501\tDev FI: 0.746\n[25,     2] loss: 0.404\tDev FI: 0.746\n[26,     1] loss: 0.500\tDev FI: 0.746\n[26,     2] loss: 0.404\tDev FI: 0.745\n[27,     1] loss: 0.499\tDev FI: 0.745\n[27,     2] loss: 0.404\tDev FI: 0.747\n[28,     1] loss: 0.497\tDev FI: 0.748\n[28,     2] loss: 0.404\tDev FI: 0.747\n[29,     1] loss: 0.496\tDev FI: 0.747\n[29,     2] loss: 0.403\tDev FI: 0.747\n[30,     1] loss: 0.495\tDev FI: 0.746\n[30,     2] loss: 0.402\tDev FI: 0.746\n[31,     1] loss: 0.494\tDev FI: 0.746\n[31,     2] loss: 0.401\tDev FI: 0.745\n[32,     1] loss: 0.494\tDev FI: 0.746\n[32,     2] loss: 0.400\tDev FI: 0.743\n[33,     1] loss: 0.493\tDev FI: 0.743\n[33,     2] loss: 0.399\tDev FI: 0.743\n[34,     1] loss: 0.492\tDev FI: 0.744\n[34,     2] loss: 0.399\tDev FI: 0.744\n[35,     1] loss: 0.491\tDev FI: 0.744\n[35,     2] loss: 0.399\tDev FI: 0.745\n[36,     1] loss: 0.491\tDev FI: 0.745\n[36,     2] loss: 0.398\tDev FI: 0.744\n[37,     1] loss: 0.490\tDev FI: 0.745\n[37,     2] loss: 0.398\tDev FI: 0.745\n[38,     1] loss: 0.489\tDev FI: 0.746\n[38,     2] loss: 0.398\tDev FI: 0.746\n[39,     1] loss: 0.489\tDev FI: 0.747\n[39,     2] loss: 0.397\tDev FI: 0.746\n[40,     1] loss: 0.488\tDev FI: 0.747\n[40,     2] loss: 0.397\tDev FI: 0.747\n[41,     1] loss: 0.487\tDev FI: 0.747\n[41,     2] loss: 0.395\tDev FI: 0.748\n[42,     1] loss: 0.487\tDev FI: 0.747\n[42,     2] loss: 0.394\tDev FI: 0.747\n[43,     1] loss: 0.486\tDev FI: 0.748\n[43,     2] loss: 0.394\tDev FI: 0.748\n[44,     1] loss: 0.486\tDev FI: 0.748\n[44,     2] loss: 0.394\tDev FI: 0.747\n[45,     1] loss: 0.485\tDev FI: 0.746\n[45,     2] loss: 0.393\tDev FI: 0.745\n[46,     1] loss: 0.485\tDev FI: 0.746\n[46,     2] loss: 0.392\tDev FI: 0.743\n[47,     1] loss: 0.484\tDev FI: 0.745\n[47,     2] loss: 0.392\tDev FI: 0.743\n[48,     1] loss: 0.483\tDev FI: 0.746\n[48,     2] loss: 0.392\tDev FI: 0.743\n[49,     1] loss: 0.483\tDev FI: 0.746\n[49,     2] loss: 0.392\tDev FI: 0.744\n[50,     1] loss: 0.482\tDev FI: 0.746\n[50,     2] loss: 0.392\tDev FI: 0.744\n[51,     1] loss: 0.482\tDev FI: 0.747\n[51,     2] loss: 0.391\tDev FI: 0.747\n[52,     1] loss: 0.481\tDev FI: 0.745\n[52,     2] loss: 0.391\tDev FI: 0.745\n[53,     1] loss: 0.481\tDev FI: 0.746\n[53,     2] loss: 0.391\tDev FI: 0.746\n[54,     1] loss: 0.480\tDev FI: 0.746\n[54,     2] loss: 0.391\tDev FI: 0.744\n[55,     1] loss: 0.480\tDev FI: 0.745\n[55,     2] loss: 0.391\tDev FI: 0.745\n[56,     1] loss: 0.479\tDev FI: 0.744\n[56,     2] loss: 0.391\tDev FI: 0.745\n[57,     1] loss: 0.479\tDev FI: 0.745\n[57,     2] loss: 0.391\tDev FI: 0.744\n[58,     1] loss: 0.479\tDev FI: 0.747\n[58,     2] loss: 0.391\tDev FI: 0.744\n[59,     1] loss: 0.479\tDev FI: 0.746\n[59,     2] loss: 0.391\tDev FI: 0.745\n[60,     1] loss: 0.478\tDev FI: 0.746\n[60,     2] loss: 0.391\tDev FI: 0.744\n[61,     1] loss: 0.480\tDev FI: 0.744\n[61,     2] loss: 0.393\tDev FI: 0.740\n[62,     1] loss: 0.482\tDev FI: 0.744\n[62,     2] loss: 0.391\tDev FI: 0.741\n[63,     1] loss: 0.490\tDev FI: 0.748\n[63,     2] loss: 0.392\tDev FI: 0.736\n[64,     1] loss: 0.489\tDev FI: 0.745\n[64,     2] loss: 0.392\tDev FI: 0.742\n[65,     1] loss: 0.483\tDev FI: 0.744\n[65,     2] loss: 0.392\tDev FI: 0.747\n[66,     1] loss: 0.478\tDev FI: 0.744\n[66,     2] loss: 0.391\tDev FI: 0.745\n[67,     1] loss: 0.482\tDev FI: 0.746\n[67,     2] loss: 0.391\tDev FI: 0.744\n[68,     1] loss: 0.481\tDev FI: 0.746\n[68,     2] loss: 0.390\tDev FI: 0.745\n[69,     1] loss: 0.478\tDev FI: 0.744\n[69,     2] loss: 0.391\tDev FI: 0.745\n[70,     1] loss: 0.476\tDev FI: 0.746\n[70,     2] loss: 0.391\tDev FI: 0.746\n[71,     1] loss: 0.478\tDev FI: 0.745\n[71,     2] loss: 0.391\tDev FI: 0.744\n[72,     1] loss: 0.478\tDev FI: 0.747\n[72,     2] loss: 0.391\tDev FI: 0.749\n[73,     1] loss: 0.476\tDev FI: 0.748\n[73,     2] loss: 0.391\tDev FI: 0.749\n[74,     1] loss: 0.474\tDev FI: 0.745\n[74,     2] loss: 0.391\tDev FI: 0.748\n[75,     1] loss: 0.474\tDev FI: 0.749\n[75,     2] loss: 0.391\tDev FI: 0.747\n[76,     1] loss: 0.475\tDev FI: 0.747\n[76,     2] loss: 0.391\tDev FI: 0.746\n[77,     1] loss: 0.474\tDev FI: 0.744\n[77,     2] loss: 0.391\tDev FI: 0.746\n[78,     1] loss: 0.477\tDev FI: 0.747\n[78,     2] loss: 0.391\tDev FI: 0.739\n[79,     1] loss: 0.478\tDev FI: 0.746\n[79,     2] loss: 0.390\tDev FI: 0.745\n[80,     1] loss: 0.479\tDev FI: 0.747\n[80,     2] loss: 0.390\tDev FI: 0.743\n[81,     1] loss: 0.477\tDev FI: 0.747\n[81,     2] loss: 0.391\tDev FI: 0.749\n[82,     1] loss: 0.474\tDev FI: 0.751\n[82,     2] loss: 0.391\tDev FI: 0.749\n[83,     1] loss: 0.472\tDev FI: 0.746\n[83,     2] loss: 0.391\tDev FI: 0.745\n[84,     1] loss: 0.472\tDev FI: 0.749\n[84,     2] loss: 0.391\tDev FI: 0.746\n[85,     1] loss: 0.474\tDev FI: 0.744\n[85,     2] loss: 0.391\tDev FI: 0.744\n[86,     1] loss: 0.474\tDev FI: 0.749\n[86,     2] loss: 0.391\tDev FI: 0.746\n[87,     1] loss: 0.476\tDev FI: 0.745\n[87,     2] loss: 0.391\tDev FI: 0.741\n[88,     1] loss: 0.474\tDev FI: 0.745\n[88,     2] loss: 0.391\tDev FI: 0.749\n[89,     1] loss: 0.474\tDev FI: 0.747\n[89,     2] loss: 0.390\tDev FI: 0.743\n[90,     1] loss: 0.472\tDev FI: 0.745\n[90,     2] loss: 0.391\tDev FI: 0.746\n[91,     1] loss: 0.471\tDev FI: 0.747\n[91,     2] loss: 0.390\tDev FI: 0.746\n[92,     1] loss: 0.471\tDev FI: 0.744\n[92,     2] loss: 0.391\tDev FI: 0.745\n[93,     1] loss: 0.470\tDev FI: 0.746\n[93,     2] loss: 0.391\tDev FI: 0.749\n[94,     1] loss: 0.471\tDev FI: 0.745\n[94,     2] loss: 0.391\tDev FI: 0.742\n[95,     1] loss: 0.472\tDev FI: 0.747\n[95,     2] loss: 0.390\tDev FI: 0.747\n[96,     1] loss: 0.475\tDev FI: 0.744\n[96,     2] loss: 0.391\tDev FI: 0.741\n[97,     1] loss: 0.477\tDev FI: 0.745\n[97,     2] loss: 0.390\tDev FI: 0.747\n[98,     1] loss: 0.477\tDev FI: 0.746\n[98,     2] loss: 0.390\tDev FI: 0.742\n[99,     1] loss: 0.476\tDev FI: 0.744\n[99,     2] loss: 0.391\tDev FI: 0.749\n[100,     1] loss: 0.471\tDev FI: 0.749\n[100,     2] loss: 0.391\tDev FI: 0.747\nFinished Training.\n"
    }
   ],
   "source": [
    "importlib.reload(dan)\n",
    "net = dan.Net()\n",
    "net.train(train, dev)"
   ]
  },
  {
   "cell_type": "markdown",
   "metadata": {},
   "source": [
    "## Dev Performance and Error Analysis"
   ]
  },
  {
   "cell_type": "code",
   "execution_count": 32,
   "metadata": {},
   "outputs": [],
   "source": [
    "# dev[0]\n",
    "ys, y_stars = net.get_eval_data(dev)\n",
    "# confmat(ys, y_stars)\n",
    "f1(ys, y_stars)\n",
    "\n",
    "twt['pred'] = pd.Series(y_stars, index = dev_idx)\n",
    "\n",
    "\n",
    "# for error analysis\n",
    "twt[['keyword', 'location', 'text', 'prepped','vec', 'target','pred']].to_csv('error_analysis.csv')"
   ]
  },
  {
   "cell_type": "markdown",
   "metadata": {},
   "source": [
    "## Create Test Submissions"
   ]
  },
  {
   "cell_type": "code",
   "execution_count": 35,
   "metadata": {
    "tags": [
     "outputPrepend"
    ]
   },
   "outputs": [
    {
     "output_type": "stream",
     "name": "stdout",
     "text": "3263 tweets read from test.csv\n3263 tweets processed in the test set.\n3263 3263\n"
    }
   ],
   "source": [
    "# create vector of mean of all word vectors\n",
    "mean_vec = np.zeros((300,1))\n",
    "for vec_targ in train:\n",
    "    mean_vec = np.add(mean_vec, vec_targ[0])\n",
    "mean_vec = mean_vec/len(train)\n",
    "\n",
    "# read in test data and preprocess tweets\n",
    "test = pd.read_csv('test.csv')\n",
    "proc_text = [preprocess.processing(i) for i in text]\n",
    "targets = np.zeros((len(test), 1))\n",
    "print('{} tweets read from test.csv'.format(test.shape[0]))\n",
    "\n",
    "\n",
    "# test_data = [(tweet_vec(x, word2vec), y) if for x, y in zip(proc_test, targets)]\n",
    "test['vec'] = pd.Series([preprocess.tweet_vec(tweet, word2vec) for tweet in test['text'].tolist()], index = test.index)\n",
    "\n",
    "print('{} tweets processed in the test set.'.format(test.shape[0]))\n",
    "\n",
    "test_data = test['vec'].tolist()\n",
    "\n",
    "\n",
    "_, y_stars = net.get_eval_data(test_data, mode = 'test')\n",
    "\n",
    "# create columns for submission data\n",
    "id = test['id'].to_numpy()\n",
    "target = y_stars\n",
    "\n",
    "# create df with submission data and write to csv\n",
    "submission = pd.DataFrame({'id': id, 'target': target})\n",
    "submission.set_index('id').to_csv('submission.csv')\n",
    "\n",
    "# also save analysis csv for reviewing decisions\n",
    "test['prepped'] = proc_text\n",
    "test['pred'] = target\n",
    "test[['keyword', 'location', 'text', 'prepped','pred']].to_csv('test_error_analysis.csv')"
   ]
  },
  {
   "cell_type": "code",
   "execution_count": 43,
   "metadata": {},
   "outputs": [],
   "source": [
    "test[['id', 'pred']].set_index('id').to_csv('submission.csv')"
   ]
  },
  {
   "cell_type": "markdown",
   "metadata": {},
   "source": [
    "## 2. Naive Bayes with Bag of Words"
   ]
  },
  {
   "cell_type": "code",
   "execution_count": 44,
   "metadata": {},
   "outputs": [
    {
     "output_type": "stream",
     "name": "stdout",
     "text": "Created 7613 bag-of-words vectorizations.\nNaive Bayes training complete.\nNaive Bayes dev performance 0.7500000000000001\n"
    }
   ],
   "source": [
    "from sklearn.naive_bayes import MultinomialNB\n",
    "from sklearn.feature_extraction.text import CountVectorizer\n",
    "\n",
    "# create raw bow text and labels, shuffle\n",
    "bow = twt['text'].to_numpy()\n",
    "labels = twt['target'].to_numpy()\n",
    "\n",
    "shuffle_idx = [x for x in range(len(bow))]\n",
    "random.shuffle(shuffle_idx)\n",
    "\n",
    "bow = bow[shuffle_idx]\n",
    "labels = labels[shuffle_idx]\n",
    "\n",
    "# train bag-of-words\n",
    "count_vect = CountVectorizer()\n",
    "x_bow = count_vect.fit(bow)\n",
    "\n",
    "# create train dev split\n",
    "train_bow = bow[:round(train_p*len(bow))]\n",
    "dev_bow = bow[round(train_p*len(bow)):]\n",
    "train_bow = count_vect.transform(train_bow)\n",
    "dev_bow = count_vect.transform(dev_bow)\n",
    "\n",
    "train_bow_labels = labels[:round(train_p*len(bow))]\n",
    "dev_bow_lables = labels[round(train_p*len(bow)):]\n",
    "\n",
    "print('Created {} bag-of-words vectorizations.'.format(train_bow.shape[0] + dev_bow.shape[0]))\n",
    "clf = MultinomialNB().fit(train_bow, train_bow_labels)\n",
    "print('Naive Bayes training complete.')\n",
    "\n",
    "# get dev performances\n",
    "ys = clf.predict(dev_bow)\n",
    "\n",
    "# dev performance\n",
    "print('Naive Bayes dev performance {}'.format(f1(ys, dev_bow_lables)))"
   ]
  },
  {
   "cell_type": "markdown",
   "metadata": {},
   "source": [
    "## Missingness Exploration\n",
    "\n",
    "We suspect that location data can be useful for predicting disasters. However, we have a sizable proportion of the data for which the location data is missing. In order to address this issue, we needed to first identify whether the data is missing completely at random, missing at random, or not missing at random. For the data to be MCAR, the mechanism of missingness of the data must be independent of all other observed features of the data. These other observed features, in our case, include the text of the tweet. Reviewing the Twitter policy on tweet-level location data, we found that twitter users must opt in to location services to embed location data in there tweets, as well as intentionally include location data on each desired tweet. This policy gives us an insight into some mechanisms of missingness - users forget that they can include location data, or the intentionally elect not to for some tweets. This second mechanism would preclude categorization as missing completely at random. Furthermore, as users of social media, the authors have firsthand experience with the relationship between the location from which a tweet was sent, and the inclusion of location data. Twitter users may want to inform followers that they are tweeting from an impressive or otherwise unusual location - a famous concert venue, or a historic city, or even the site of a terrible natural disaster - a decision surely not made at random. Being Missing Not a Random, our options for mitigating location data missingness are few. We could drop the data altogether, but decided that appending it to the contents of the tweet would be an acceptable approach that prevents information loss.\n"
   ]
  }
 ],
 "metadata": {
  "kernelspec": {
   "display_name": "Python 3",
   "language": "python",
   "name": "python3"
  },
  "language_info": {
   "codemirror_mode": {
    "name": "ipython",
    "version": 3
   },
   "file_extension": ".py",
   "mimetype": "text/x-python",
   "name": "python",
   "nbconvert_exporter": "python",
   "pygments_lexer": "ipython3",
   "version": "3.7.7-final"
  }
 },
 "nbformat": 4,
 "nbformat_minor": 2
}